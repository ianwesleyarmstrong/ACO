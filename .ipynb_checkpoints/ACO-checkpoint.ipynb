{
 "cells": [
  {
   "cell_type": "code",
   "execution_count": 1,
   "metadata": {},
   "outputs": [],
   "source": [
    "import numpy as np\n",
    "import pandas as pd\n",
    "from haversine import haversine\n",
    "from antColony import antColony\n",
    "from scipy.spatial import distance_matrix"
   ]
  },
  {
   "cell_type": "code",
   "execution_count": 2,
   "metadata": {},
   "outputs": [],
   "source": [
    "df_cities = pd.read_csv('1000_cities.csv', delimiter=';')\n",
    "df_cities.head()\n",
    "lat = []\n",
    "lon = []\n",
    "\n",
    "for row in df_cities['Coordinates']:\n",
    "    try:\n",
    "        lat.append(float(row.split(',')[0]))\n",
    "        lon.append(float(row.split(',')[1]))\n",
    "    except:\n",
    "        lat.append(np.nan)\n",
    "        lon.append(np.nan)\n",
    "df_cities['Lat'] = lat\n",
    "df_cities['Lon'] = lon\n",
    "df_cities.drop(['Rank','State','Population','Growth From 2000 to 2013'],\n",
    "              axis=1, inplace=True)"
   ]
  },
  {
   "cell_type": "code",
   "execution_count": 3,
   "metadata": {},
   "outputs": [],
   "source": [
    "# algorith paramater initialization\n",
    "iterations = 100\n",
    "numAnts = 20\n",
    "\n",
    "\n",
    "\n",
    "# paramater initialization\n",
    "c = 1.0 #original number of trails\n",
    "e = 0.5 #pheremone evaporation per cycle\n",
    "alpha = 1 #pheremone importance\n",
    "beta = 5 #distance priority\n",
    "antFactor = 0.8 #ants per city\n",
    "randomness = 0.01 #introduces slight mutations"
   ]
  },
  {
   "cell_type": "code",
   "execution_count": 4,
   "metadata": {},
   "outputs": [
    {
     "data": {
      "text/html": [
       "<div>\n",
       "<style scoped>\n",
       "    .dataframe tbody tr th:only-of-type {\n",
       "        vertical-align: middle;\n",
       "    }\n",
       "\n",
       "    .dataframe tbody tr th {\n",
       "        vertical-align: top;\n",
       "    }\n",
       "\n",
       "    .dataframe thead th {\n",
       "        text-align: right;\n",
       "    }\n",
       "</style>\n",
       "<table border=\"1\" class=\"dataframe\">\n",
       "  <thead>\n",
       "    <tr style=\"text-align: right;\">\n",
       "      <th></th>\n",
       "      <th>City</th>\n",
       "      <th>Coordinates</th>\n",
       "      <th>Lat</th>\n",
       "      <th>Lon</th>\n",
       "    </tr>\n",
       "  </thead>\n",
       "  <tbody>\n",
       "    <tr>\n",
       "      <th>0</th>\n",
       "      <td>South San Francisco</td>\n",
       "      <td>37.654656, -122.4077498</td>\n",
       "      <td>37.654656</td>\n",
       "      <td>-122.407750</td>\n",
       "    </tr>\n",
       "    <tr>\n",
       "      <th>1</th>\n",
       "      <td>Aliso Viejo</td>\n",
       "      <td>33.5676842, -117.7256083</td>\n",
       "      <td>33.567684</td>\n",
       "      <td>-117.725608</td>\n",
       "    </tr>\n",
       "    <tr>\n",
       "      <th>2</th>\n",
       "      <td>Rapid City</td>\n",
       "      <td>44.0805434, -103.2310149</td>\n",
       "      <td>44.080543</td>\n",
       "      <td>-103.231015</td>\n",
       "    </tr>\n",
       "    <tr>\n",
       "      <th>3</th>\n",
       "      <td>Coon Rapids</td>\n",
       "      <td>45.1732394, -93.3030063</td>\n",
       "      <td>45.173239</td>\n",
       "      <td>-93.303006</td>\n",
       "    </tr>\n",
       "    <tr>\n",
       "      <th>4</th>\n",
       "      <td>Malden</td>\n",
       "      <td>42.4250964, -71.066163</td>\n",
       "      <td>42.425096</td>\n",
       "      <td>-71.066163</td>\n",
       "    </tr>\n",
       "  </tbody>\n",
       "</table>\n",
       "</div>"
      ],
      "text/plain": [
       "                  City               Coordinates        Lat         Lon\n",
       "0  South San Francisco   37.654656, -122.4077498  37.654656 -122.407750\n",
       "1          Aliso Viejo  33.5676842, -117.7256083  33.567684 -117.725608\n",
       "2           Rapid City  44.0805434, -103.2310149  44.080543 -103.231015\n",
       "3          Coon Rapids   45.1732394, -93.3030063  45.173239  -93.303006\n",
       "4               Malden    42.4250964, -71.066163  42.425096  -71.066163"
      ]
     },
     "execution_count": 4,
     "metadata": {},
     "output_type": "execute_result"
    }
   ],
   "source": [
    "df_cities.head()"
   ]
  },
  {
   "cell_type": "code",
   "execution_count": 5,
   "metadata": {},
   "outputs": [
    {
     "data": {
      "text/plain": [
       "385.8861996715914"
      ]
     },
     "execution_count": 5,
     "metadata": {},
     "output_type": "execute_result"
    }
   ],
   "source": [
    "haversine(df_cities.Coordinates[0],df_cities.Coordinates[1])"
   ]
  },
  {
   "cell_type": "code",
   "execution_count": 6,
   "metadata": {},
   "outputs": [
    {
     "data": {
      "text/plain": [
       "'\\nAlgorithm 6.4.1: Pseudocode for Ant Colony System.\\nInput: ProblemSize, P opulationsize, m, ρ, β, σ, q0\\nOutput: Pbest\\n1 Pbest ← CreateHeuristicSolution(ProblemSize);\\n2 P bestcost ← Cost(Sh);\\nP heromoneinit ← 1.0 / ProblemSize×P bestcost\\n3 ;\\n4 Pheromone ← InitializePheromone(P heromoneinit);\\n5 while ¬StopCondition() do\\n6 for i = 1 to m do\\n7 Si ← ConstructSolution(Pheromone, ProblemSize, β, q0);\\n8 Sicost ← Cost(Si);\\n9 if Sicost ≤ P bestcost then\\n10 P bestcost ← Sicost;\\nPbest ← Si 11 ;\\n12 end\\n13 LocalUpdateAndDecayPheromone(Pheromone, Si, Sicost, σ);\\n14 end\\n15 GlobalUpdateAndDecayPheromone(Pheromone, Pbest, P bestcost,\\nρ);\\n16 end\\n17 return Pbest;\\n'"
      ]
     },
     "execution_count": 6,
     "metadata": {},
     "output_type": "execute_result"
    }
   ],
   "source": [
    "\"\"\"\n",
    "Algorithm 6.4.1: Pseudocode for Ant Colony System.\n",
    "Input: ProblemSize, P opulationsize, m, ρ, β, σ, q0\n",
    "Output: Pbest\n",
    "1 Pbest ← CreateHeuristicSolution(ProblemSize);\n",
    "2 P bestcost ← Cost(Sh);\n",
    "P heromoneinit ← 1.0 / ProblemSize×P bestcost\n",
    "3 ;\n",
    "4 Pheromone ← InitializePheromone(P heromoneinit);\n",
    "5 while ¬StopCondition() do\n",
    "6 for i = 1 to m do\n",
    "7 Si ← ConstructSolution(Pheromone, ProblemSize, β, q0);\n",
    "8 Sicost ← Cost(Si);\n",
    "9 if Sicost ≤ P bestcost then\n",
    "10 P bestcost ← Sicost;\n",
    "Pbest ← Si 11 ;\n",
    "12 end\n",
    "13 LocalUpdateAndDecayPheromone(Pheromone, Si, Sicost, σ);\n",
    "14 end\n",
    "15 GlobalUpdateAndDecayPheromone(Pheromone, Pbest, P bestcost,\n",
    "ρ);\n",
    "16 end\n",
    "17 return Pbest;\n",
    "\"\"\""
   ]
  },
  {
   "cell_type": "code",
   "execution_count": 7,
   "metadata": {},
   "outputs": [
    {
     "ename": "TypeError",
     "evalue": "createCityMatrix() takes 1 positional argument but 2 were given",
     "output_type": "error",
     "traceback": [
      "\u001b[1;31m---------------------------------------------------------------------------\u001b[0m",
      "\u001b[1;31mTypeError\u001b[0m                                 Traceback (most recent call last)",
      "\u001b[1;32m<ipython-input-7-233c9241b5cf>\u001b[0m in \u001b[0;36m<module>\u001b[1;34m\u001b[0m\n\u001b[1;32m----> 1\u001b[1;33m \u001b[0mcolony\u001b[0m \u001b[1;33m=\u001b[0m \u001b[0mantColony\u001b[0m\u001b[1;33m(\u001b[0m\u001b[0mdf_cities\u001b[0m\u001b[1;33m)\u001b[0m\u001b[1;33m\u001b[0m\u001b[1;33m\u001b[0m\u001b[0m\n\u001b[0m",
      "\u001b[1;32m~\\Documents\\CVUT\\BIE-ZUM\\ACO\\antColony.py\u001b[0m in \u001b[0;36m__init__\u001b[1;34m(self, cities, alpha, beta, decay, iterations, antNumber)\u001b[0m\n\u001b[0;32m     23\u001b[0m         \u001b[0mself\u001b[0m\u001b[1;33m.\u001b[0m\u001b[0mantNumber\u001b[0m \u001b[1;33m=\u001b[0m \u001b[0mantNumber\u001b[0m\u001b[1;33m\u001b[0m\u001b[1;33m\u001b[0m\u001b[0m\n\u001b[0;32m     24\u001b[0m         \u001b[0mself\u001b[0m\u001b[1;33m.\u001b[0m\u001b[0mcities\u001b[0m \u001b[1;33m=\u001b[0m \u001b[0mcities\u001b[0m\u001b[1;33m\u001b[0m\u001b[1;33m\u001b[0m\u001b[0m\n\u001b[1;32m---> 25\u001b[1;33m         \u001b[0mself\u001b[0m\u001b[1;33m.\u001b[0m\u001b[0mcityMatrix\u001b[0m \u001b[1;33m=\u001b[0m \u001b[0mself\u001b[0m\u001b[1;33m.\u001b[0m\u001b[0mcreateCityMatrix\u001b[0m\u001b[1;33m(\u001b[0m\u001b[0mcities\u001b[0m\u001b[1;33m)\u001b[0m\u001b[1;33m\u001b[0m\u001b[1;33m\u001b[0m\u001b[0m\n\u001b[0m\u001b[0;32m     26\u001b[0m         \u001b[0mself\u001b[0m\u001b[1;33m.\u001b[0m\u001b[0mpheremones\u001b[0m \u001b[1;33m=\u001b[0m \u001b[0mnp\u001b[0m\u001b[1;33m.\u001b[0m\u001b[0mones\u001b[0m\u001b[1;33m(\u001b[0m\u001b[0mself\u001b[0m\u001b[1;33m.\u001b[0m\u001b[0mcityMatrix\u001b[0m\u001b[1;33m.\u001b[0m\u001b[0mshape\u001b[0m\u001b[1;33m)\u001b[0m \u001b[1;33m/\u001b[0m \u001b[0mlen\u001b[0m\u001b[1;33m(\u001b[0m\u001b[0mself\u001b[0m\u001b[1;33m.\u001b[0m\u001b[0mcityMatrix\u001b[0m\u001b[1;33m)\u001b[0m\u001b[1;33m\u001b[0m\u001b[1;33m\u001b[0m\u001b[0m\n\u001b[0;32m     27\u001b[0m         \u001b[0mself\u001b[0m\u001b[1;33m.\u001b[0m\u001b[0mvisibility\u001b[0m \u001b[1;33m=\u001b[0m \u001b[1;36m1\u001b[0m\u001b[1;33m/\u001b[0m\u001b[0mself\u001b[0m\u001b[1;33m.\u001b[0m\u001b[0mcityMatrix\u001b[0m\u001b[1;33m\u001b[0m\u001b[1;33m\u001b[0m\u001b[0m\n",
      "\u001b[1;31mTypeError\u001b[0m: createCityMatrix() takes 1 positional argument but 2 were given"
     ]
    }
   ],
   "source": [
    "colony = antColony(df_cities)"
   ]
  },
  {
   "cell_type": "code",
   "execution_count": null,
   "metadata": {},
   "outputs": [],
   "source": [
    "cityMatrix = colony.createCityMatrix(df_cities.head(25))"
   ]
  },
  {
   "cell_type": "code",
   "execution_count": 8,
   "metadata": {},
   "outputs": [
    {
     "ename": "NameError",
     "evalue": "name 'cityMatrix' is not defined",
     "output_type": "error",
     "traceback": [
      "\u001b[1;31m---------------------------------------------------------------------------\u001b[0m",
      "\u001b[1;31mNameError\u001b[0m                                 Traceback (most recent call last)",
      "\u001b[1;32m<ipython-input-8-bf09628761a5>\u001b[0m in \u001b[0;36m<module>\u001b[1;34m\u001b[0m\n\u001b[1;32m----> 1\u001b[1;33m \u001b[0mprint\u001b[0m\u001b[1;33m(\u001b[0m\u001b[0mcityMatrix\u001b[0m\u001b[1;33m[\u001b[0m\u001b[1;36m0\u001b[0m\u001b[1;33m]\u001b[0m\u001b[1;33m.\u001b[0m\u001b[0mshape\u001b[0m\u001b[1;33m)\u001b[0m\u001b[1;33m\u001b[0m\u001b[1;33m\u001b[0m\u001b[0m\n\u001b[0m",
      "\u001b[1;31mNameError\u001b[0m: name 'cityMatrix' is not defined"
     ]
    }
   ],
   "source": [
    "print(cityMatrix[0].shape)"
   ]
  },
  {
   "cell_type": "code",
   "execution_count": null,
   "metadata": {},
   "outputs": [],
   "source": []
  }
 ],
 "metadata": {
  "kernelspec": {
   "display_name": "Python 3",
   "language": "python",
   "name": "python3"
  },
  "language_info": {
   "codemirror_mode": {
    "name": "ipython",
    "version": 3
   },
   "file_extension": ".py",
   "mimetype": "text/x-python",
   "name": "python",
   "nbconvert_exporter": "python",
   "pygments_lexer": "ipython3",
   "version": "3.7.1"
  }
 },
 "nbformat": 4,
 "nbformat_minor": 2
}
